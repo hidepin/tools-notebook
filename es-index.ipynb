{
 "cells": [
  {
   "cell_type": "code",
   "execution_count": null,
   "metadata": {
    "autoscroll": false,
    "collapsed": false,
    "ein.tags": "worksheet-0",
    "slideshow": {
     "slide_type": "-"
    }
   },
   "outputs": [],
   "source": [
    "es_index = \"./es-indices.txt\""
   ]
  },
  {
   "cell_type": "code",
   "execution_count": null,
   "metadata": {
    "autoscroll": false,
    "collapsed": false,
    "ein.tags": "worksheet-0",
    "slideshow": {
     "slide_type": "-"
    }
   },
   "outputs": [],
   "source": [
    "import pandas as pd\n",
    "\n",
    "pd.set_option('display.width', 1000)"
   ]
  },
  {
   "cell_type": "code",
   "execution_count": null,
   "metadata": {
    "autoscroll": false,
    "collapsed": false,
    "ein.tags": "worksheet-0",
    "slideshow": {
     "slide_type": "-"
    }
   },
   "outputs": [],
   "source": [
    "import numpy as np\n",
    "from matplotlib import pyplot as plt, rcParams\n",
    "\n",
    "rcParams['font.family'] = 'VL Gothic'\n",
    "rcParams['font.weight'] = 'regular'\n",
    "rcParams['axes.titlesize'] = 18\n",
    "rcParams['xtick.labelsize'] = 14\n",
    "rcParams['ytick.labelsize'] = 14\n"
   ]
  },
  {
   "cell_type": "code",
   "execution_count": null,
   "metadata": {
    "autoscroll": false,
    "collapsed": false,
    "ein.tags": "worksheet-0",
    "slideshow": {
     "slide_type": "-"
    }
   },
   "outputs": [],
   "source": [
    "import re\n",
    "def normalize(size):\n",
    "    (size, unit) = re.findall(r'([0-9.]+|\\D+)',size)\n",
    "    if (unit == 'kb'):\n",
    "       size = int(float(size) * 1024)\n",
    "    elif (unit == 'mb'):\n",
    "       size = int(float(size) * 1024 * 1024)\n",
    "    elif (unit == 'gb'):\n",
    "       size = int(float(size) * 1024 * 1024 * 1024)\n",
    "    return size / 1024 / 1024\n"
   ]
  },
  {
   "cell_type": "code",
   "execution_count": null,
   "metadata": {
    "autoscroll": false,
    "collapsed": false,
    "ein.tags": "worksheet-0",
    "slideshow": {
     "slide_type": "-"
    }
   },
   "outputs": [],
   "source": [
    "df = pd.read_csv(es_index, delim_whitespace=True)\n",
    "sizedf = pd.concat([df[['index', 'store.size']],df['index'].str.extract('(?P<index_series>.*)-(?P<date>\\d{4}.\\d{2}.\\d{2})', expand=True)], axis=1)\n",
    "sizedf['store.size'] = sizedf['store.size'].map(normalize)\n",
    "sizedf['date'] = pd.to_datetime(sizedf['date'])\n",
    "sizedf.head()"
   ]
  },
  {
   "cell_type": "code",
   "execution_count": null,
   "metadata": {
    "autoscroll": false,
    "collapsed": false,
    "ein.tags": "worksheet-0",
    "slideshow": {
     "slide_type": "-"
    }
   },
   "outputs": [],
   "source": [
    "fig = plt.figure(figsize=(20,8))\n",
    "ax = fig.add_subplot(111)\n",
    "\n",
    "for lindex in sizedf['index_series'].drop_duplicates():\n",
    "    ldf = sizedf.loc[sizedf['index_series'] == lindex].sort_values(by=['date'])\n",
    "    ax.bar(ldf['date'], ldf['store.size'])\n",
    "    print(lindex)\n",
    "plt.show()"
   ]
  }
 ],
 "metadata": {
  "name": "es-index.ipynb"
 },
 "nbformat": 4,
 "nbformat_minor": 2
}
