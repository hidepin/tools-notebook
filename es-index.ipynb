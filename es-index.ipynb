{
 "cells": [
  {
   "cell_type": "code",
   "execution_count": null,
   "metadata": {
    "autoscroll": false,
    "collapsed": false,
    "ein.tags": "worksheet-0",
    "slideshow": {
     "slide_type": "-"
    }
   },
   "outputs": [],
   "source": [
    "es_index = \"./es-indices.txt\"\n",
    "disk_size = 3000"
   ]
  },
  {
   "cell_type": "code",
   "execution_count": null,
   "metadata": {
    "autoscroll": false,
    "collapsed": false,
    "ein.tags": "worksheet-0",
    "slideshow": {
     "slide_type": "-"
    }
   },
   "outputs": [],
   "source": [
    "import pandas as pd\n",
    "import numpy as np\n",
    "from matplotlib import pyplot as plt, rcParams\n",
    "\n",
    "pd.set_option('display.width', 1000)\n",
    "plt.style.use('dark_background')\n",
    "\n",
    "rcParams['font.family'] = 'VL Gothic'\n",
    "rcParams['font.weight'] = 'regular'\n",
    "rcParams['legend.fontsize'] = 20\n",
    "rcParams['axes.titlesize'] = 20\n",
    "rcParams['xtick.labelsize'] = 20\n",
    "rcParams['ytick.labelsize'] = 20\n"
   ]
  },
  {
   "cell_type": "code",
   "execution_count": null,
   "metadata": {
    "autoscroll": false,
    "collapsed": false,
    "ein.tags": "worksheet-0",
    "slideshow": {
     "slide_type": "-"
    }
   },
   "outputs": [],
   "source": [
    "import re\n",
    "def normalize(size):\n",
    "    size, *unit = re.findall(r'([0-9.]+|\\D+)',size)\n",
    "    if (unit == 'kb'):\n",
    "       size = float(size) * 1024\n",
    "    elif (unit == 'mb'):\n",
    "       size = float(size) * 1024 * 1024\n",
    "    elif (unit == 'gb'):\n",
    "       size = float(size) * 1024 * 1024 * 1024\n",
    "    return int(float(size)) #/ 1024 / 1024\n"
   ]
  },
  {
   "cell_type": "code",
   "execution_count": null,
   "metadata": {
    "autoscroll": false,
    "collapsed": false,
    "ein.tags": "worksheet-0",
    "slideshow": {
     "slide_type": "-"
    }
   },
   "outputs": [],
   "source": [
    "df = pd.read_csv(es_index, delim_whitespace=True)\n",
    "\n",
    "sizedf = pd.concat([df[['index', 'store.size']],df['index'].str.extract('(?P<index_series>.*)-(?P<date>\\d{4}.\\d{2}.\\d{2})', expand=True)], axis=1)\n",
    "sizedf['store.size'] = sizedf['store.size'].map(normalize)\n",
    "sizedf['date'] = pd.to_datetime(sizedf['date'])\n",
    "sizedf.dropna(inplace=True)\n",
    "\n",
    "index_df = pd.DataFrame(sizedf.drop_duplicates('date').sort_values(by=['date'])['date'].reset_index(drop=True))\n",
    "for lindex in sizedf['index_series'].drop_duplicates():\n",
    "    index_df = pd.merge(index_df, sizedf[sizedf.index_series == lindex][['date','store.size']].rename(columns={'store.size':lindex}), on='date', how='outer')\n",
    "index_df.set_index('date', inplace=True)\n",
    "index_df.fillna(0, inplace=True)"
   ]
  },
  {
   "cell_type": "code",
   "execution_count": null,
   "metadata": {
    "autoscroll": false,
    "collapsed": false,
    "ein.tags": "worksheet-0",
    "slideshow": {
     "slide_type": "-"
    }
   },
   "outputs": [],
   "source": [
    "ax = index_df.plot.bar(figsize=(20,8), stacked=True)\n",
    "ax.set_title('インデックスサイズ(日毎)')\n",
    "plt.show()"
   ]
  },
  {
   "cell_type": "code",
   "execution_count": null,
   "metadata": {
    "autoscroll": false,
    "collapsed": false,
    "ein.tags": "worksheet-0",
    "slideshow": {
     "slide_type": "-"
    }
   },
   "outputs": [],
   "source": [
    "ax = index_df.cumsum().plot.bar(figsize=(20,8), stacked=True)\n",
    "ax.plot([-1,len(index_df.index)],[disk_size, disk_size], label='最大値', color='red')\n",
    "ax.legend()\n",
    "ax.set_title('インデックスサイズ累計値')\n",
    "plt.show()"
   ]
  }
 ],
 "metadata": {
  "name": "es-index.ipynb"
 },
 "nbformat": 4,
 "nbformat_minor": 2
}
