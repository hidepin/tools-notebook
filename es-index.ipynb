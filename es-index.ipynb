{
 "cells": [
  {
   "cell_type": "code",
   "execution_count": null,
   "metadata": {
    "autoscroll": false,
    "collapsed": false,
    "ein.tags": "worksheet-0",
    "slideshow": {
     "slide_type": "-"
    }
   },
   "outputs": [],
   "source": [
    "es_index = \"./es-indices.txt\""
   ]
  },
  {
   "cell_type": "code",
   "execution_count": null,
   "metadata": {
    "autoscroll": false,
    "collapsed": false,
    "ein.tags": "worksheet-0",
    "slideshow": {
     "slide_type": "-"
    }
   },
   "outputs": [],
   "source": [
    "import pandas as pd\n",
    "\n",
    "pd.set_option('display.width', 1000)"
   ]
  },
  {
   "cell_type": "code",
   "execution_count": null,
   "metadata": {
    "autoscroll": false,
    "collapsed": false,
    "ein.tags": "worksheet-0",
    "slideshow": {
     "slide_type": "-"
    }
   },
   "outputs": [],
   "source": [
    "import numpy as np\n",
    "from matplotlib import pyplot as plt, rcParams\n",
    "\n",
    "rcParams['font.family'] = 'VL Gothic'\n",
    "rcParams['font.weight'] = 'regular'\n",
    "rcParams['axes.titlesize'] = 18\n",
    "rcParams['xtick.labelsize'] = 14\n",
    "rcParams['ytick.labelsize'] = 14\n"
   ]
  },
  {
   "cell_type": "code",
   "execution_count": null,
   "metadata": {
    "autoscroll": false,
    "collapsed": false,
    "ein.tags": "worksheet-0",
    "slideshow": {
     "slide_type": "-"
    }
   },
   "outputs": [],
   "source": [
    "import re\n",
    "def normalize(size):\n",
    "    size, *unit = re.findall(r'([0-9.]+|\\D+)',size)\n",
    "    if (unit == 'kb'):\n",
    "       size = int(float(size) * 1024)\n",
    "    elif (unit == 'mb'):\n",
    "       size = int(float(size) * 1024 * 1024)\n",
    "    elif (unit == 'gb'):\n",
    "       size = int(float(size) * 1024 * 1024 * 1024)\n",
    "    return size #/ 1024 / 1024\n"
   ]
  },
  {
   "cell_type": "code",
   "execution_count": null,
   "metadata": {
    "autoscroll": false,
    "collapsed": false,
    "ein.tags": "worksheet-0",
    "slideshow": {
     "slide_type": "-"
    }
   },
   "outputs": [],
   "source": [
    "df = pd.read_csv(es_index, delim_whitespace=True)\n",
    "sizedf = pd.concat([df[['index', 'store.size']],df['index'].str.extract('(?P<index_series>.*)-(?P<date>\\d{4}.\\d{2}.\\d{2})', expand=True)], axis=1)\n",
    "sizedf['store.size'] = sizedf['store.size'].map(normalize)\n",
    "sizedf['date'] = pd.to_datetime(sizedf['date'])\n",
    "sizedf.dropna(inplace=True)"
   ]
  },
  {
   "cell_type": "code",
   "execution_count": null,
   "metadata": {
    "autoscroll": false,
    "collapsed": false,
    "ein.tags": "worksheet-0",
    "slideshow": {
     "slide_type": "-"
    }
   },
   "outputs": [],
   "source": [
    "index_df = pd.DataFrame(sizedf.drop_duplicates('date').sort_values(by=['date'])['date'].reset_index(drop=True))\n",
    "for lindex in sizedf['index_series'].drop_duplicates():\n",
    "    index_df = pd.merge(index_df, sizedf[sizedf.index_series == lindex][['date','store.size']].rename(columns={'store.size':lindex}), on='date', how='outer')"
   ]
  },
  {
   "cell_type": "code",
   "execution_count": null,
   "metadata": {
    "autoscroll": false,
    "collapsed": false,
    "ein.tags": "worksheet-0",
    "slideshow": {
     "slide_type": "-"
    }
   },
   "outputs": [],
   "source": []
  },
  {
   "cell_type": "code",
   "execution_count": null,
   "metadata": {
    "autoscroll": false,
    "collapsed": false,
    "ein.tags": "worksheet-0",
    "slideshow": {
     "slide_type": "-"
    }
   },
   "outputs": [],
   "source": [
    "fig = plt.figure(figsize=(20,8))\n",
    "ax = fig.add_subplot(111)\n",
    "\n",
    "for lindex in np.delete(index_df.columns.values, 0):\n",
    "    ax.bar(index_df['date'],index_df[lindex])\n",
    "plt.style.use('dark_background')\n",
    "plt.show()\n"
   ]
  }
 ],
 "metadata": {
  "name": "es-index.ipynb"
 },
 "nbformat": 4,
 "nbformat_minor": 2
}
